version https://git-lfs.github.com/spec/v1
oid sha256:d8f06f13c5803b5e24e09c59b3883ac66d511b82721c251b7d40a1178f24154b
size 68773
